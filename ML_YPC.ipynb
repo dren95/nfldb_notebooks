{
 "metadata": {
  "name": "",
  "signature": "sha256:85d8224f9ecf442a8db3f17f1a3075797dc7e9f41eefda0373793414f726fa0d"
 },
 "nbformat": 3,
 "nbformat_minor": 0,
 "worksheets": [
  {
   "cells": [
    {
     "cell_type": "code",
     "collapsed": false,
     "input": [
      "import nfldb\n",
      "import numpy as np\n",
      "import pandas as pd\n",
      "import scipy.stats as stats\n",
      "import itertools\n",
      "from sklearn.ensemble import RandomForestRegressor\n",
      "from sklearn import cross_validation"
     ],
     "language": "python",
     "metadata": {},
     "outputs": [],
     "prompt_number": 1
    },
    {
     "cell_type": "markdown",
     "metadata": {},
     "source": [
      "# ML w/ YPC heuristics\n",
      "The purpose of this notebook is to apply some machine learning to various YPC heuristics to see what can be learned about the predictive power of those heuristics for the next 15 carries.\n",
      "\n",
      "The YPC heuristics computed are mean YPC, sort of a geometric mean YPC, the mean YPC of the central 80% of carries and the mean YPC of the central 60% of carries. Geometric mean YPC is only sort of geometric mean because geometric mean cannot be computed on a dataset containing negative numbers. Thus, an invalid approximation is used where the geometric mean of the negative carries is subtracted from the geometric mean of the positive carries.\n",
      "\n",
      "Rather than attempting to predict YPC from particular games a prediction of the YPC for 15 carries starting at a given play for a given player is attempted. The heuristics are computed by looking backwards from that play by 100-10 carries, stepped by 5. This data is computed in the function ```prep_data```."
     ]
    },
    {
     "cell_type": "code",
     "collapsed": false,
     "input": [
      "def prep_data():\n",
      "    db = nfldb.connect()\n",
      "    q = nfldb.Query(db).game(season_type='Regular').player(position='RB').play_player(rushing_att=1)\n",
      "\n",
      "    rushes_by_player = {}\n",
      "    for pp in q.as_play_players():\n",
      "        key = (pp.player_id, str(pp.player))\n",
      "        if key not in rushes_by_player:\n",
      "            rushes_by_player[key] = np.array(pp.rushing_yds)\n",
      "        else:\n",
      "            rushes_by_player[key] = np.append(rushes_by_player[key], pp.rushing_yds)\n",
      "\n",
      "    predictor_sizes = range(10, 105, 5)\n",
      "    predictor_sizes.reverse()\n",
      "    predict_size = 15\n",
      "    col_names = ['YPC_%d', 'geoYPC_%d', 'central80_%d', 'central60_%d']\n",
      "    cols = {\n",
      "        col_name % x : []\n",
      "        for col_name in col_names\n",
      "        for x in predictor_sizes\n",
      "    }\n",
      "    cols['to_predict'] = []\n",
      "    for rushes in rushes_by_player.values():\n",
      "        for ii in xrange(rushes.size - predict_size, -1, -1):\n",
      "            to_predict = np.mean(rushes[ii:ii + predict_size])\n",
      "            for predictor_size in predictor_sizes:\n",
      "                if predictor_size > ii:\n",
      "                    break\n",
      "                ypc_slice = rushes[ii - predictor_size:ii]\n",
      "                YPC = np.mean(ypc_slice)\n",
      "                geoYPC = stats.gmean(ypc_slice[ypc_slice>=0]) if ypc_slice[ypc_slice>=0].size > 0 else 0\n",
      "                geoYPC -= stats.gmean(np.absolute(ypc_slice[ypc_slice<0])) if ypc_slice[ypc_slice<0].size > 0 else 0\n",
      "                lower, higher = np.percentile(ypc_slice, [10,90])\n",
      "                if ypc_slice[(ypc_slice>lower) & (ypc_slice<higher)].size > 0:\n",
      "                    central80 = np.mean(ypc_slice[(ypc_slice>lower) & (ypc_slice<higher)])\n",
      "                else:\n",
      "                    central80 = YPC\n",
      "                lower, higher = np.percentile(ypc_slice, [20,80])\n",
      "                if ypc_slice[(ypc_slice>lower) & (ypc_slice<higher)].size > 0:\n",
      "                    central60 = np.mean(ypc_slice[(ypc_slice>lower) & (ypc_slice<higher)])\n",
      "                else:\n",
      "                    central60 = YPC\n",
      "\n",
      "                cols['YPC_%d' % predictor_size].append(YPC)\n",
      "                cols['geoYPC_%d' % predictor_size].append(geoYPC)\n",
      "                cols['central80_%d' % predictor_size].append(central80)\n",
      "                cols['central60_%d' % predictor_size].append(central60)\n",
      "            if predictor_size > ii:\n",
      "                break\n",
      "            cols['to_predict'].append(to_predict)\n",
      "    results = pd.DataFrame(cols, columns = ['to_predict'] + [col_name % x for col_name in col_names for x in predictor_sizes])\n",
      "    results.to_csv('ypc_data.csv', index=False)"
     ],
     "language": "python",
     "metadata": {},
     "outputs": [],
     "prompt_number": 2
    },
    {
     "cell_type": "code",
     "collapsed": false,
     "input": [
      "# run this to compute data for learning, it saves a csv so it only needs to be run once\n",
      "prep_data()"
     ],
     "language": "python",
     "metadata": {},
     "outputs": [],
     "prompt_number": 3
    },
    {
     "cell_type": "markdown",
     "metadata": {},
     "source": [
      "# Run a Random Forest Regressor for Feature Extraction\n",
      "\n",
      "Here the data is cross validated and an error estimate is built for the model using root mean squared error."
     ]
    },
    {
     "cell_type": "code",
     "collapsed": false,
     "input": [
      "# create the training and test sets, skipping the header row with [1:]\n",
      "dataset = np.genfromtxt(open('ypc_data.csv', 'r'), delimiter=',', dtype='float32')[1:]\n",
      "target = np.array([x[0] for x in dataset])\n",
      "train = np.array([x[1:] for x in dataset])\n",
      "\n",
      "#In this case we'll use a random forest, but this could be any classifier\n",
      "rgr = RandomForestRegressor(n_estimators=100, n_jobs=-1)\n",
      "\n",
      "#Simple K-Fold cross validation. 5 folds.\n",
      "cv = cross_validation.KFold(len(train), n_folds=5)\n",
      "\n",
      "def rms_error(act, pred):\n",
      "    return np.sqrt(np.mean(np.square(act - pred)))\n",
      "\n",
      "#iterate through the training and test cross validation segments and\n",
      "#run the classifier on each one, aggregating the results into a list\n",
      "results = []\n",
      "for traincv, testcv in cv:\n",
      "    probas = rgr.fit(train[traincv], target[traincv]).predict(train[testcv])\n",
      "    results.append( rms_error(target[testcv], probas) )"
     ],
     "language": "python",
     "metadata": {},
     "outputs": [],
     "prompt_number": 4
    },
    {
     "cell_type": "markdown",
     "metadata": {},
     "source": [
      "# Show the error of the model"
     ]
    },
    {
     "cell_type": "code",
     "collapsed": false,
     "input": [
      "#print out the mean of the cross-validated results\n",
      "print \"Error of model: %s\" % np.array(results).mean()\n",
      "print \"median: %s\" % np.percentile(target, 50)\n",
      "print \"Error as percentage of median: %0.2f%%\" % (np.array(results).mean() * 100 / np.percentile(target, 50))"
     ],
     "language": "python",
     "metadata": {},
     "outputs": [
      {
       "output_type": "stream",
       "stream": "stdout",
       "text": [
        "Error of model: 1.8490597155\n",
        "median: 4.13333320618\n",
        "Error as percentage of median: 44.74%\n"
       ]
      }
     ],
     "prompt_number": 5
    },
    {
     "cell_type": "markdown",
     "metadata": {},
     "source": [
      "# Show the most important features"
     ]
    },
    {
     "cell_type": "code",
     "collapsed": false,
     "input": [
      "headers = open('ypc_data.csv', 'r').readlines()[0].split(',')[1:]\n",
      "for importance, name in sorted(zip(rgr.feature_importances_, headers), reverse=True)[:10]:\n",
      "    print '%0.5f, %s' % (importance, name)"
     ],
     "language": "python",
     "metadata": {},
     "outputs": [
      {
       "output_type": "stream",
       "stream": "stdout",
       "text": [
        "0.03871, YPC_100\n",
        "0.02682, geoYPC_100\n",
        "0.01975, central60_100\n",
        "0.01974, geoYPC_90\n",
        "0.01860, central80_100\n",
        "0.01830, geoYPC_80\n",
        "0.01763, geoYPC_95\n",
        "0.01732, geoYPC_85\n",
        "0.01688, central60_95\n",
        "0.01641, central80_95\n"
       ]
      }
     ],
     "prompt_number": 6
    },
    {
     "cell_type": "code",
     "collapsed": false,
     "input": [],
     "language": "python",
     "metadata": {},
     "outputs": []
    }
   ],
   "metadata": {}
  }
 ]
}